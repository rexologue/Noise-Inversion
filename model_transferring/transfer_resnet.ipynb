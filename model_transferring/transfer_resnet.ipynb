{
 "cells": [
  {
   "cell_type": "code",
   "execution_count": 5,
   "metadata": {},
   "outputs": [
    {
     "name": "stdout",
     "output_type": "stream",
     "text": [
      "\n"
     ]
    }
   ],
   "source": [
    "import os\n",
    "import sys\n",
    "sys.path.append(os.path.join(os.getcwd(), '..'))\n",
    "\n",
    "import torch\n",
    "from models.resnet import ResNet\n",
    "\n",
    "BLOCKS = [50, 101, 152][0]\n",
    "\n",
    "CKP_PATH = f'loaded_models/resnet{BLOCKS}.pth'\n",
    "SAVE_PATH = f'../weights/imagenet_resnet{BLOCKS}.pth'\n",
    "\n",
    "resnet = ResNet('classic', BLOCKS)\n",
    "resnet_ckp = torch.load(CKP_PATH, weights_only=False)"
   ]
  },
  {
   "cell_type": "code",
   "execution_count": null,
   "metadata": {},
   "outputs": [],
   "source": [
    "i = 0\n",
    "for key, value in resnet.state_dict().items():\n",
    "    print(f\"{i}: {key}: {value.shape}\")\n",
    "    i += 1\n",
    "print('------------------------------------------------------------------')\n",
    "i = 0\n",
    "for key, value in resnet_ckp.items():\n",
    "    print(f\"{i}: {key}: {value.shape}\")\n",
    "    i += 1"
   ]
  },
  {
   "cell_type": "code",
   "execution_count": 6,
   "metadata": {},
   "outputs": [],
   "source": [
    "PATH_TO_MAPPING = f'mappings/resnet{BLOCKS}_weights_mapping.txt'\n",
    "\n",
    "mapping = {}\n",
    "with open(PATH_TO_MAPPING, 'r') as f:\n",
    "    for line in f.readlines():\n",
    "        cline = line[:-1]\n",
    "        current_layer = int(cline.split(':')[0])\n",
    "        \n",
    "        if ('stem.stem.0.bias' not in cline) and ('num_batches_tracked' not in cline):\n",
    "            old_layer = int(cline.split('(')[-1].split(')')[0])\n",
    "        else:\n",
    "            old_layer = None\n",
    "            \n",
    "        mapping[current_layer] = old_layer\n",
    "\n",
    "i = 0\n",
    "current_state = {}\n",
    "for key, value in resnet.state_dict().items():\n",
    "    current_state[i] = (key, value)\n",
    "    i += 1\n",
    "    \n",
    "i = 0\n",
    "old_state = {}\n",
    "for key, value in resnet_ckp.items():\n",
    "    old_state[i] = value\n",
    "    i += 1\n",
    "    \n",
    "new_state = {}\n",
    "for i in range(len(current_state)):\n",
    "    old_i = mapping[i]\n",
    "    \n",
    "    if old_i is None:\n",
    "        value = current_state[i][1]\n",
    "    else:\n",
    "        value = old_state[old_i]\n",
    "        \n",
    "    new_state[current_state[i][0]] = value"
   ]
  },
  {
   "cell_type": "code",
   "execution_count": 7,
   "metadata": {},
   "outputs": [],
   "source": [
    "resnet.load_state_dict(new_state)\n",
    "torch.save(resnet.state_dict(), SAVE_PATH)"
   ]
  }
 ],
 "metadata": {
  "kernelspec": {
   "display_name": "ni_env",
   "language": "python",
   "name": "python3"
  },
  "language_info": {
   "codemirror_mode": {
    "name": "ipython",
    "version": 3
   },
   "file_extension": ".py",
   "mimetype": "text/x-python",
   "name": "python",
   "nbconvert_exporter": "python",
   "pygments_lexer": "ipython3",
   "version": "3.11.11"
  }
 },
 "nbformat": 4,
 "nbformat_minor": 2
}

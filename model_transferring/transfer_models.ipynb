{
 "cells": [
  {
   "cell_type": "code",
   "execution_count": null,
   "metadata": {},
   "outputs": [
    {
     "name": "stdout",
     "output_type": "stream",
     "text": [
      "\n"
     ]
    }
   ],
   "source": [
    "import sys\n",
    "sys.path.append('/home/super/mironov/mia/classifiers')\n",
    "\n",
    "import torch\n",
    "from models.resnet import ResNet\n",
    "\n",
    "resnet = ResNet('classic', 152)\n",
    "resnet_ckp = torch.load('/home/super/mironov/mia/model_transferring/loaded_models/resnet152.pth', weights_only=False)\n",
    "\n",
    "def init_model(model: torch.nn.Module):\n",
    "    for module in model.modules():\n",
    "        if (isinstance(module, torch.nn.Conv2d) or isinstance(module, torch.nn.Linear)):\n",
    "            torch.nn.init.kaiming_uniform_(module.weight)\n",
    "\n",
    "resnet.apply(init_model)\n",
    "print()"
   ]
  },
  {
   "cell_type": "code",
   "execution_count": null,
   "metadata": {},
   "outputs": [],
   "source": [
    "i = 0\n",
    "for key, value in resnet.state_dict().items():\n",
    "    print(f\"{i}: {key}: {value.shape}\")\n",
    "    i += 1\n",
    "print('------------------------------------------------------------------')\n",
    "i = 0\n",
    "for key, value in resnet_ckp.items():\n",
    "    print(f\"{i}: {key}: {value.shape}\")\n",
    "    i += 1"
   ]
  },
  {
   "cell_type": "code",
   "execution_count": 14,
   "metadata": {},
   "outputs": [],
   "source": [
    "mapping = {}\n",
    "with open('/home/super/mironov/mia/model_transferring/resnet152_weights_mapping.txt', 'r') as f:\n",
    "    for line in f.readlines():\n",
    "        cline = line[:-1]\n",
    "        current_layer = int(cline.split(':')[0])\n",
    "        \n",
    "        if ('stem.stem.0.bias' not in cline) and ('num_batches_tracked' not in cline):\n",
    "            old_layer = int(cline.split('(')[-1].split(')')[0])\n",
    "        else:\n",
    "            old_layer = None\n",
    "            \n",
    "        mapping[current_layer] = old_layer\n",
    "\n",
    "i = 0\n",
    "current_state = {}\n",
    "for key, value in resnet.state_dict().items():\n",
    "    current_state[i] = (key, value)\n",
    "    i += 1\n",
    "    \n",
    "i = 0\n",
    "old_state = {}\n",
    "for key, value in resnet_ckp.items():\n",
    "    old_state[i] = value\n",
    "    i += 1\n",
    "    \n",
    "new_state = {}\n",
    "for i in range(len(current_state)):\n",
    "    old_i = mapping[i]\n",
    "    \n",
    "    if old_i is None:\n",
    "        value = current_state[i][1]\n",
    "    else:\n",
    "        value = old_state[old_i]\n",
    "        \n",
    "    new_state[current_state[i][0]] = value"
   ]
  },
  {
   "cell_type": "code",
   "execution_count": null,
   "metadata": {},
   "outputs": [],
   "source": [
    "resnet.load_state_dict(new_state)\n",
    "torch.save(resnet.state_dict(), '/mnt/disk2/mironov/models/resnet/resnet152_imagenet.pth')"
   ]
  },
  {
   "cell_type": "code",
   "execution_count": null,
   "metadata": {},
   "outputs": [],
   "source": [
    "from models.resnet import ResNetClassifier\n",
    "\n",
    "classifier = ResNetClassifier('classic', 152, 101)\n",
    "classifier.apply(init_model)\n",
    "\n",
    "classifier.resnet.load_state_dict(new_state)\n",
    "\n",
    "torch.save(classifier.state_dict(), '/home/super/mironov/mia/logs/resnet152_food101.pth')"
   ]
  }
 ],
 "metadata": {
  "kernelspec": {
   "display_name": "ni_env",
   "language": "python",
   "name": "python3"
  },
  "language_info": {
   "codemirror_mode": {
    "name": "ipython",
    "version": 3
   },
   "file_extension": ".py",
   "mimetype": "text/x-python",
   "name": "python",
   "nbconvert_exporter": "python",
   "pygments_lexer": "ipython3",
   "version": "3.11.11"
  }
 },
 "nbformat": 4,
 "nbformat_minor": 2
}

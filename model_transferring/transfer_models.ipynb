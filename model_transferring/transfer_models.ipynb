{
 "cells": [
  {
   "cell_type": "code",
   "execution_count": null,
   "metadata": {},
   "outputs": [
    {
     "name": "stdout",
     "output_type": "stream",
     "text": [
      "\n"
     ]
    }
   ],
   "source": [
    "import sys\n",
    "sys.path.append('/home/super/mironov/mia/classifiers')\n",
    "\n",
    "import torch\n",
    "from models.resnet import ResNet\n",
    "\n",
    "resnet = ResNet('classic', 152)\n",
    "resnet_ckp = torch.load('/home/super/mironov/mia/model_transferring/loaded_models/resnet152.pth', weights_only=False)\n",
    "\n",
    "def init_model(model: torch.nn.Module):\n",
    "    for module in model.modules():\n",
    "        if (isinstance(module, torch.nn.Conv2d) or isinstance(module, torch.nn.Linear)):\n",
    "            torch.nn.init.kaiming_uniform_(module.weight)\n",
    "\n",
    "resnet.apply(init_model)\n",
    "print()"
   ]
  },
  {
   "cell_type": "code",
   "execution_count": null,
   "metadata": {},
   "outputs": [],
   "source": [
    "i = 0\n",
    "for key, value in resnet.state_dict().items():\n",
    "    print(f\"{i}: {key}: {value.shape}\")\n",
    "    i += 1\n",
    "print('------------------------------------------------------------------')\n",
    "i = 0\n",
    "for key, value in resnet_ckp.items():\n",
    "    print(f\"{i}: {key}: {value.shape}\")\n",
    "    i += 1"
   ]
  },
  {
   "cell_type": "code",
   "execution_count": 14,
   "metadata": {},
   "outputs": [],
   "source": [
    "mapping = {}\n",
    "with open('/home/super/mironov/mia/model_transferring/resnet152_weights_mapping.txt', 'r') as f:\n",
    "    for line in f.readlines():\n",
    "        cline = line[:-1]\n",
    "        current_layer = int(cline.split(':')[0])\n",
    "        \n",
    "        if ('stem.stem.0.bias' not in cline) and ('num_batches_tracked' not in cline):\n",
    "            old_layer = int(cline.split('(')[-1].split(')')[0])\n",
    "        else:\n",
    "            old_layer = None\n",
    "            \n",
    "        mapping[current_layer] = old_layer\n",
    "\n",
    "i = 0\n",
    "current_state = {}\n",
    "for key, value in resnet.state_dict().items():\n",
    "    current_state[i] = (key, value)\n",
    "    i += 1\n",
    "    \n",
    "i = 0\n",
    "old_state = {}\n",
    "for key, value in resnet_ckp.items():\n",
    "    old_state[i] = value\n",
    "    i += 1\n",
    "    \n",
    "new_state = {}\n",
    "for i in range(len(current_state)):\n",
    "    old_i = mapping[i]\n",
    "    \n",
    "    if old_i is None:\n",
    "        value = current_state[i][1]\n",
    "    else:\n",
    "        value = old_state[old_i]\n",
    "        \n",
    "    new_state[current_state[i][0]] = value"
   ]
  },
  {
   "cell_type": "code",
   "execution_count": 15,
   "metadata": {},
   "outputs": [
    {
     "ename": "RuntimeError",
     "evalue": "Error(s) in loading state_dict for ResNet:\n\tsize mismatch for stages.stage_2.block_0.block.shortcut_layer.conv.weight: copying a param with shape torch.Size([256, 512, 1, 1]) from checkpoint, the shape in current model is torch.Size([1024, 512, 1, 1]).\n\tsize mismatch for stages.stage_2.block_0.block.shortcut_layer.bn.weight: copying a param with shape torch.Size([256]) from checkpoint, the shape in current model is torch.Size([1024]).\n\tsize mismatch for stages.stage_2.block_0.block.shortcut_layer.bn.bias: copying a param with shape torch.Size([256]) from checkpoint, the shape in current model is torch.Size([1024]).\n\tsize mismatch for stages.stage_2.block_0.block.shortcut_layer.bn.running_mean: copying a param with shape torch.Size([256]) from checkpoint, the shape in current model is torch.Size([1024]).\n\tsize mismatch for stages.stage_2.block_0.block.shortcut_layer.bn.running_var: copying a param with shape torch.Size([256]) from checkpoint, the shape in current model is torch.Size([1024]).\n\tsize mismatch for stages.stage_2.block_0.block.res_layer.0.weight: copying a param with shape torch.Size([256, 256, 3, 3]) from checkpoint, the shape in current model is torch.Size([256, 512, 1, 1]).\n\tsize mismatch for stages.stage_2.block_0.block.res_layer.3.weight: copying a param with shape torch.Size([1024, 256, 1, 1]) from checkpoint, the shape in current model is torch.Size([256, 256, 3, 3]).\n\tsize mismatch for stages.stage_2.block_0.block.res_layer.4.weight: copying a param with shape torch.Size([1024]) from checkpoint, the shape in current model is torch.Size([256]).\n\tsize mismatch for stages.stage_2.block_0.block.res_layer.4.bias: copying a param with shape torch.Size([1024]) from checkpoint, the shape in current model is torch.Size([256]).\n\tsize mismatch for stages.stage_2.block_0.block.res_layer.4.running_mean: copying a param with shape torch.Size([1024]) from checkpoint, the shape in current model is torch.Size([256]).\n\tsize mismatch for stages.stage_2.block_0.block.res_layer.4.running_var: copying a param with shape torch.Size([1024]) from checkpoint, the shape in current model is torch.Size([256]).\n\tsize mismatch for stages.stage_2.block_0.block.res_layer.6.weight: copying a param with shape torch.Size([1024, 512, 1, 1]) from checkpoint, the shape in current model is torch.Size([1024, 256, 1, 1]).",
     "output_type": "error",
     "traceback": [
      "\u001b[0;31m---------------------------------------------------------------------------\u001b[0m",
      "\u001b[0;31mRuntimeError\u001b[0m                              Traceback (most recent call last)",
      "Cell \u001b[0;32mIn[15], line 1\u001b[0m\n\u001b[0;32m----> 1\u001b[0m resnet\u001b[38;5;241m.\u001b[39mload_state_dict(new_state)\n\u001b[1;32m      2\u001b[0m torch\u001b[38;5;241m.\u001b[39msave(resnet\u001b[38;5;241m.\u001b[39mstate_dict(), \u001b[38;5;124m'\u001b[39m\u001b[38;5;124m/mnt/disk2/mironov/models/resnet/resnet152_imagenet.pth\u001b[39m\u001b[38;5;124m'\u001b[39m)\n",
      "File \u001b[0;32m~/miniconda3/envs/mironov_gan_env/lib/python3.11/site-packages/torch/nn/modules/module.py:2581\u001b[0m, in \u001b[0;36mModule.load_state_dict\u001b[0;34m(self, state_dict, strict, assign)\u001b[0m\n\u001b[1;32m   2573\u001b[0m         error_msgs\u001b[38;5;241m.\u001b[39minsert(\n\u001b[1;32m   2574\u001b[0m             \u001b[38;5;241m0\u001b[39m,\n\u001b[1;32m   2575\u001b[0m             \u001b[38;5;124m\"\u001b[39m\u001b[38;5;124mMissing key(s) in state_dict: \u001b[39m\u001b[38;5;132;01m{}\u001b[39;00m\u001b[38;5;124m. \u001b[39m\u001b[38;5;124m\"\u001b[39m\u001b[38;5;241m.\u001b[39mformat(\n\u001b[1;32m   2576\u001b[0m                 \u001b[38;5;124m\"\u001b[39m\u001b[38;5;124m, \u001b[39m\u001b[38;5;124m\"\u001b[39m\u001b[38;5;241m.\u001b[39mjoin(\u001b[38;5;124mf\u001b[39m\u001b[38;5;124m'\u001b[39m\u001b[38;5;124m\"\u001b[39m\u001b[38;5;132;01m{\u001b[39;00mk\u001b[38;5;132;01m}\u001b[39;00m\u001b[38;5;124m\"\u001b[39m\u001b[38;5;124m'\u001b[39m \u001b[38;5;28;01mfor\u001b[39;00m k \u001b[38;5;129;01min\u001b[39;00m missing_keys)\n\u001b[1;32m   2577\u001b[0m             ),\n\u001b[1;32m   2578\u001b[0m         )\n\u001b[1;32m   2580\u001b[0m \u001b[38;5;28;01mif\u001b[39;00m \u001b[38;5;28mlen\u001b[39m(error_msgs) \u001b[38;5;241m>\u001b[39m \u001b[38;5;241m0\u001b[39m:\n\u001b[0;32m-> 2581\u001b[0m     \u001b[38;5;28;01mraise\u001b[39;00m \u001b[38;5;167;01mRuntimeError\u001b[39;00m(\n\u001b[1;32m   2582\u001b[0m         \u001b[38;5;124m\"\u001b[39m\u001b[38;5;124mError(s) in loading state_dict for \u001b[39m\u001b[38;5;132;01m{}\u001b[39;00m\u001b[38;5;124m:\u001b[39m\u001b[38;5;130;01m\\n\u001b[39;00m\u001b[38;5;130;01m\\t\u001b[39;00m\u001b[38;5;132;01m{}\u001b[39;00m\u001b[38;5;124m\"\u001b[39m\u001b[38;5;241m.\u001b[39mformat(\n\u001b[1;32m   2583\u001b[0m             \u001b[38;5;28mself\u001b[39m\u001b[38;5;241m.\u001b[39m\u001b[38;5;18m__class__\u001b[39m\u001b[38;5;241m.\u001b[39m\u001b[38;5;18m__name__\u001b[39m, \u001b[38;5;124m\"\u001b[39m\u001b[38;5;130;01m\\n\u001b[39;00m\u001b[38;5;130;01m\\t\u001b[39;00m\u001b[38;5;124m\"\u001b[39m\u001b[38;5;241m.\u001b[39mjoin(error_msgs)\n\u001b[1;32m   2584\u001b[0m         )\n\u001b[1;32m   2585\u001b[0m     )\n\u001b[1;32m   2586\u001b[0m \u001b[38;5;28;01mreturn\u001b[39;00m _IncompatibleKeys(missing_keys, unexpected_keys)\n",
      "\u001b[0;31mRuntimeError\u001b[0m: Error(s) in loading state_dict for ResNet:\n\tsize mismatch for stages.stage_2.block_0.block.shortcut_layer.conv.weight: copying a param with shape torch.Size([256, 512, 1, 1]) from checkpoint, the shape in current model is torch.Size([1024, 512, 1, 1]).\n\tsize mismatch for stages.stage_2.block_0.block.shortcut_layer.bn.weight: copying a param with shape torch.Size([256]) from checkpoint, the shape in current model is torch.Size([1024]).\n\tsize mismatch for stages.stage_2.block_0.block.shortcut_layer.bn.bias: copying a param with shape torch.Size([256]) from checkpoint, the shape in current model is torch.Size([1024]).\n\tsize mismatch for stages.stage_2.block_0.block.shortcut_layer.bn.running_mean: copying a param with shape torch.Size([256]) from checkpoint, the shape in current model is torch.Size([1024]).\n\tsize mismatch for stages.stage_2.block_0.block.shortcut_layer.bn.running_var: copying a param with shape torch.Size([256]) from checkpoint, the shape in current model is torch.Size([1024]).\n\tsize mismatch for stages.stage_2.block_0.block.res_layer.0.weight: copying a param with shape torch.Size([256, 256, 3, 3]) from checkpoint, the shape in current model is torch.Size([256, 512, 1, 1]).\n\tsize mismatch for stages.stage_2.block_0.block.res_layer.3.weight: copying a param with shape torch.Size([1024, 256, 1, 1]) from checkpoint, the shape in current model is torch.Size([256, 256, 3, 3]).\n\tsize mismatch for stages.stage_2.block_0.block.res_layer.4.weight: copying a param with shape torch.Size([1024]) from checkpoint, the shape in current model is torch.Size([256]).\n\tsize mismatch for stages.stage_2.block_0.block.res_layer.4.bias: copying a param with shape torch.Size([1024]) from checkpoint, the shape in current model is torch.Size([256]).\n\tsize mismatch for stages.stage_2.block_0.block.res_layer.4.running_mean: copying a param with shape torch.Size([1024]) from checkpoint, the shape in current model is torch.Size([256]).\n\tsize mismatch for stages.stage_2.block_0.block.res_layer.4.running_var: copying a param with shape torch.Size([1024]) from checkpoint, the shape in current model is torch.Size([256]).\n\tsize mismatch for stages.stage_2.block_0.block.res_layer.6.weight: copying a param with shape torch.Size([1024, 512, 1, 1]) from checkpoint, the shape in current model is torch.Size([1024, 256, 1, 1])."
     ]
    }
   ],
   "source": [
    "resnet.load_state_dict(new_state)\n",
    "torch.save(resnet.state_dict(), '/mnt/disk2/mironov/models/resnet/resnet152_imagenet.pth')"
   ]
  },
  {
   "cell_type": "code",
   "execution_count": null,
   "metadata": {},
   "outputs": [],
   "source": [
    "from models.resnet import ResNetClassifier\n",
    "\n",
    "classifier = ResNetClassifier('classic', 152, 101)\n",
    "classifier.apply(init_model)\n",
    "\n",
    "classifier.resnet.load_state_dict(new_state)\n",
    "\n",
    "torch.save(classifier.state_dict(), '/home/super/mironov/mia/logs/resnet152_food101.pth')"
   ]
  }
 ],
 "metadata": {
  "kernelspec": {
   "display_name": "ni_env",
   "language": "python",
   "name": "python3"
  },
  "language_info": {
   "codemirror_mode": {
    "name": "ipython",
    "version": 3
   },
   "file_extension": ".py",
   "mimetype": "text/x-python",
   "name": "python",
   "nbconvert_exporter": "python",
   "pygments_lexer": "ipython3",
   "version": "3.11.11"
  }
 },
 "nbformat": 4,
 "nbformat_minor": 2
}

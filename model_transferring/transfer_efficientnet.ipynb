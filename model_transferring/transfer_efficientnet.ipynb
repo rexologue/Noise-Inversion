{
 "cells": [
  {
   "cell_type": "code",
   "execution_count": null,
   "id": "3ca7ccf6",
   "metadata": {},
   "outputs": [],
   "source": [
    "import os\n",
    "import sys\n",
    "sys.path.append(os.path.join(os.getcwd(), '..'))\n",
    "\n",
    "import torch\n",
    "from models.efficientnet import EfficientNetV2\n",
    "\n",
    "MODEL_SIZE = ['s', 'm', 'l'][0]\n",
    "\n",
    "CKP_PATH = f'loaded_models/efficientnet_v2_{MODEL_SIZE}.pth'\n",
    "SAVE_PATH = f'../weights/imagenet_efficientnet_v2_{MODEL_SIZE}.pth'\n",
    "\n",
    "model = EfficientNetV2(MODEL_SIZE)\n",
    "old_model_ckp = torch.load(CKP_PATH, weights_only=False)"
   ]
  },
  {
   "cell_type": "code",
   "execution_count": null,
   "id": "f6880f4f",
   "metadata": {},
   "outputs": [],
   "source": [
    "cur_dict = model.state_dict()\n",
    "\n",
    "# All norm layers has one-dim value, except fc layers in SE Module - their baises are one-dim too.\n",
    "# Loaded model was trained with BatchNorm, I'm going to use LayerNorm, so I do not want to transfer norm layers\n",
    "normless_old_keys = []\n",
    "normless_cur_keys = []\n",
    "\n",
    "for key, value in old_model_ckp.items():\n",
    "    is_one_dim = value.dim() > 1\n",
    "    is_fc = 'fc' in key\n",
    "    is_feature = key.startswith('features') # Remove all non-features layers\n",
    "\n",
    "    if is_one_dim and is_feature and not is_fc:\n",
    "        normless_old_keys.append(key)\n",
    "\n",
    "for key, value in cur_dict.items():\n",
    "    is_one_dim = value.dim() > 1\n",
    "    is_fc = 'fc' in key\n",
    "\n",
    "    if is_one_dim and not is_fc:\n",
    "        normless_cur_keys.append(key)\n",
    "\n",
    "for cur_key, old_key in zip(normless_cur_keys, normless_old_keys):\n",
    "    cur_dict[cur_key] = old_model_ckp[old_key]"
   ]
  },
  {
   "cell_type": "code",
   "execution_count": 34,
   "id": "bd1332d1",
   "metadata": {},
   "outputs": [],
   "source": [
    "model.load_state_dict(cur_dict)\n",
    "torch.save(model.state_dict(), SAVE_PATH)"
   ]
  }
 ],
 "metadata": {
  "kernelspec": {
   "display_name": "ni_env",
   "language": "python",
   "name": "python3"
  },
  "language_info": {
   "codemirror_mode": {
    "name": "ipython",
    "version": 3
   },
   "file_extension": ".py",
   "mimetype": "text/x-python",
   "name": "python",
   "nbconvert_exporter": "python",
   "pygments_lexer": "ipython3",
   "version": "3.11.11"
  }
 },
 "nbformat": 4,
 "nbformat_minor": 5
}
